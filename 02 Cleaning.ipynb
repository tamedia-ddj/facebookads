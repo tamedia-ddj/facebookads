{
 "cells": [
  {
   "cell_type": "code",
   "execution_count": 36,
   "metadata": {
    "collapsed": true
   },
   "outputs": [],
   "source": [
    "import pandas as pd"
   ]
  },
  {
   "cell_type": "code",
   "execution_count": 37,
   "metadata": {
    "collapsed": true
   },
   "outputs": [],
   "source": [
    "import matplotlib.pyplot as plt\n",
    "import matplotlib\n",
    "plt.style.use('fivethirtyeight')\n",
    "%matplotlib inline"
   ]
  },
  {
   "cell_type": "code",
   "execution_count": 38,
   "metadata": {},
   "outputs": [],
   "source": [
    "#Looking at data\n",
    "df = pd.read_csv('readable.csv')"
   ]
  },
  {
   "cell_type": "code",
   "execution_count": 39,
   "metadata": {},
   "outputs": [
    {
     "name": "stdout",
     "output_type": "stream",
     "text": [
      "<class 'pandas.core.frame.DataFrame'>\n",
      "RangeIndex: 3517 entries, 0 to 3516\n",
      "Data columns (total 12 columns):\n",
      "Unnamed: 0        3517 non-null int64\n",
      "Ad Clicks         3506 non-null float64\n",
      "Ad Impressions    3446 non-null float64\n",
      "Ad Spend          2730 non-null object\n",
      "Ad Text           3365 non-null object\n",
      "Age               3517 non-null object\n",
      "Date              3346 non-null object\n",
      "Interests         2644 non-null object\n",
      "Language          1608 non-null object\n",
      "Location          3505 non-null object\n",
      "Number            3517 non-null object\n",
      "Placements        3398 non-null object\n",
      "dtypes: float64(2), int64(1), object(9)\n",
      "memory usage: 329.8+ KB\n"
     ]
    }
   ],
   "source": [
    "df.info()"
   ]
  },
  {
   "cell_type": "code",
   "execution_count": 40,
   "metadata": {
    "collapsed": true
   },
   "outputs": [],
   "source": [
    "#Cleaning Ad Clicks\n",
    "df['Ad Clicks'] = df['Ad Clicks'].fillna(value=0)\n",
    "df['Ad Clicks'] = df['Ad Clicks'].astype(int)\n",
    "#Cleaning Ad Clicks\n",
    "df['Ad Impressions'] = df['Ad Impressions'].fillna(value=0)\n",
    "df['Ad Impressions'] = df['Ad Impressions'].astype(int)"
   ]
  },
  {
   "cell_type": "code",
   "execution_count": 41,
   "metadata": {
    "collapsed": true
   },
   "outputs": [],
   "source": [
    "#In Ad spend column making 0 out of NaNs\n",
    "df['Ad Spend'] = df['Ad Spend'].fillna(value=0)\n",
    "def fillempties(elem):\n",
    "    elem = str(elem)\n",
    "    elem = int(elem.replace(' ', '.').replace(';', '').split('.')[0])\n",
    "    return elem\n",
    "df['Ad Spend'] = df['Ad Spend'].apply(fillempties)"
   ]
  },
  {
   "cell_type": "code",
   "execution_count": 42,
   "metadata": {
    "collapsed": true
   },
   "outputs": [],
   "source": [
    "#Age\n",
    "\n",
    "df['Age'].value_counts()\n",
    "def agemin(elem):\n",
    "    if elem == 'Age: 18 65+':\n",
    "        elem = elem.replace('Age: ', '').split(' ')[0]\n",
    "    else:\n",
    "        elem = elem.replace('Age: ', '').replace('Age: ', '').split('-')[0].strip()\n",
    "    return int(elem)\n",
    "df['AgeMin'] = df['Age'].apply(agemin)\n",
    "\n",
    "def agemax(elem):\n",
    "    if elem == 'Age: 18 65+':\n",
    "        elem = elem.replace('Age: ', '').replace('+', '').split(' ')[1]\n",
    "    else:\n",
    "        elem = elem.replace('Age: ', '').replace('Age: ', '').replace('+', '').split('-')[1].strip()\n",
    "    return int(elem)\n",
    "\n",
    "df['AgeMax'] = df['Age'].apply(agemax)"
   ]
  },
  {
   "cell_type": "code",
   "execution_count": 43,
   "metadata": {},
   "outputs": [],
   "source": [
    "# Date\n",
    "df['Date'] = df['Date'].fillna(value='N/A')\n",
    "def remove(elem):\n",
    "    elem = elem[:17]\n",
    "    if elem == 'N/A':\n",
    "        return '01/01/01 01:01:01'\n",
    "    else:\n",
    "        return elem\n",
    "df['Date'] = df['Date'].apply(remove)\n",
    "df.index = pd.to_datetime(df['Date'], format='%m/%d/%y %H:%M:%S')"
   ]
  },
  {
   "cell_type": "code",
   "execution_count": 44,
   "metadata": {},
   "outputs": [
    {
     "data": {
      "text/plain": [
       "<matplotlib.axes._subplots.AxesSubplot at 0x108fd5860>"
      ]
     },
     "execution_count": 44,
     "metadata": {},
     "output_type": "execute_result"
    },
    {
     "data": {
      "image/png": "[encoded data removed]",
      "text/plain": [
       "<matplotlib.figure.Figure at 0x1083c7c50>"
      ]
     },
     "metadata": {},
     "output_type": "display_data"
    }
   ],
   "source": [
    "df[df['Date']!= '01/01/01 01:01:01'].resample('W')['Number'].count().plot()"
   ]
  },
  {
   "cell_type": "code",
   "execution_count": 45,
   "metadata": {
    "collapsed": true
   },
   "outputs": [],
   "source": [
    "df['Location'] = df['Location'].fillna(value='N/A')\n",
    "#Cleaning location column\n",
    "def defsplit(elem):\n",
    "    elem = elem.split('Interests:')[0]\n",
    "    elem = elem.split('Excluded Connections:')[0].replace('\\\\n','')\n",
    "    elem = elem.replace('Location - Living  In:', '')\n",
    "    elem = elem.replace('Location: ', '').replace('Location*', '').strip()\n",
    "    return elem\n",
    "df['Cleaned location'] = df['Location'].apply(defsplit)"
   ]
  },
  {
   "cell_type": "code",
   "execution_count": 46,
   "metadata": {},
   "outputs": [
    {
     "data": {
      "text/plain": [
       "476"
      ]
     },
     "execution_count": 46,
     "metadata": {},
     "output_type": "execute_result"
    }
   ],
   "source": [
    "# Interests\n",
    "df['Interests'] = df['Interests'].fillna(value='N/A')\n",
    "def remove(elem):\n",
    "    elem = elem.replace('Interests: ', '')\n",
    "    if ('St.' in elem or\n",
    "        'Jr.' in elem):\n",
    "        elem = elem.replace(' or ', ',').split(',')\n",
    "    else: \n",
    "        elem = elem.replace(' or ', ','.replace('. ', ',')).split(',')\n",
    "    return elem\n",
    "df['Interests'] = df['Interests'].apply(remove)\n",
    "lst = list(df['Interests'])\n",
    "flat_list = [item for sublist in lst for item in sublist]\n",
    "fl = []\n",
    "for elem in flat_list:\n",
    "    elem = elem.upper().replace(' OR', '').strip()\n",
    "    fl.append(elem)\n",
    "df_tags = pd.DataFrame(fl)\n",
    "df_tags.columns = ['Tags']\n",
    "df_tags['Tags'].value_counts().count()"
   ]
  },
  {
   "cell_type": "code",
   "execution_count": 47,
   "metadata": {},
   "outputs": [
    {
     "data": {
      "text/plain": [
       "Language: English (UK) or English (US)                              1181\n",
       "Language: English (UK) or English (US)                               211\n",
       "Language: English (US)                                               141\n",
       "Language: English (US)                                                32\n",
       "Language: English (UK), Arabic or English (US)                        27\n",
       "Language: English (UK); Arabic or English (US)                         9\n",
       "Language: Spanish, English (UK), English (US) or Spanish (Spain)       6\n",
       "Language: English (UK), Arabic or English (US)                         1\n",
       "Name: Language, dtype: int64"
      ]
     },
     "execution_count": 47,
     "metadata": {},
     "output_type": "execute_result"
    }
   ],
   "source": [
    "#Language\n",
    "df['Language'].value_counts()"
   ]
  },
  {
   "cell_type": "code",
   "execution_count": 48,
   "metadata": {
    "collapsed": true
   },
   "outputs": [],
   "source": [
    "#Location\n",
    "df['Location'] = df['Location'].fillna(value='N/A')\n",
    "def defsplit(elem):\n",
    "    elem = elem.split('Interests:')[0]\n",
    "    elem = elem.split('Excluded Connections:')[0].replace('\\\\n','')\n",
    "    elem = elem.replace('Location - Living  In:', '')\n",
    "    elem = elem.replace('Location: ', '').replace('Location*', '').strip()\n",
    "    return elem\n",
    "df['Location'] = df['Location'].apply(defsplit)"
   ]
  },
  {
   "cell_type": "code",
   "execution_count": 49,
   "metadata": {},
   "outputs": [
    {
     "data": {
      "text/plain": [
       "United States                                                                                                                                                                                                                                                                               2571\n",
       "United States: New York (+25 mi) New York                                                                                                                                                                                                                                                     55\n",
       "United States: Baltimore Maryland; Ferguson, St. Louis Missouri;Cleveland Ohio                                                                                                                                                                                                                52\n",
       "United States: Texas                                                                                                                                                                                                                                                                          50\n",
       "United Kingdom, United States                                                                                                                                                                                                                                                                 33\n",
       "United States: Baltimore (+20 km) Maryland; St. Louis (+20 km)Missouri                                                                                                                                                                                                                        30\n",
       "United States: New York New York                                                                                                                                                                                                                                                              27\n",
       "United States: Baltimore Maryland; Ferguson, St. LouisMissouri; Cleveland Ohio                                                                                                                                                                                                                26\n",
       "United States: Charlotte (+25 mi) North Carolina                                                                                                                                                                                                                                              24\n",
       "United States: Baltimore Maryland: Ferguson, St. Louis Missouri:Cleveland Ohio                                                                                                                                                                                                                22\n",
       "United States: Atlanta (+25 mi) Georgia; New Orleans (+50 mi)Louisiana; Baltimore (+50 mi), Oakland (+50 mi) Maryland; Ferguson (+50mi), St. Louis (+50 mi) Missouri; Milwaukee (+25 mi) Wisconsin                                                                                            21\n",
       "United States: Atlanta (+50 km) Georgia                                                                                                                                                                                                                                                       20\n",
       "United StatesExclude United States: California; Illinois                                                                                                                                                                                                                                      20\n",
       "United StatesExclude United States: California. Illinois                                                                                                                                                                                                                                      20\n",
       "United States: Cleveland (+25 mi) Ohio                                                                                                                                                                                                                                                        19\n",
       "United States: Baltimore (+25 mi) Maryland                                                                                                                                                                                                                                                    19\n",
       "United States: Atlanta (+20 km) Georgia; Baltimore (+20 km)Maryland; St. Louis (+50 km) Missouri; Richmond (+20 km) Virginia                                                                                                                                                                  18\n",
       "United States: Washington (+50 mi) District of Columbia                                                                                                                                                                                                                                       17\n",
       "United States: Minneapolis (+25 mi) Minnesota                                                                                                                                                                                                                                                 17\n",
       "United States: Louisiana                                                                                                                                                                                                                                                                      15\n",
       "United States: Lancaster (+25 mi), San Francisco (+25 mi)California; Madison (+25 mi) Wisconsin                                                                                                                                                                                               14\n",
       "United States: New York (+40 km) New York                                                                                                                                                                                                                                                     14\n",
       "United States: Baltimore Maryland: Ferguson, St. LouisMissouri; Cleveland Ohio                                                                                                                                                                                                                13\n",
       "United States: Tampa (+25 mi) Florida                                                                                                                                                                                                                                                         12\n",
       "Germany, France, United Kingdom                                                                                                                                                                                                                                                               12\n",
       "N/A                                                                                                                                                                                                                                                                                           12\n",
       "United States: Houston (+50 mi) Texas                                                                                                                                                                                                                                                         11\n",
       "United States: Detroit Michigan                                                                                                                                                                                                                                                               10\n",
       "United States: New York                                                                                                                                                                                                                                                                       10\n",
       "United States: Kansas                                                                                                                                                                                                                                                                         10\n",
       "                                                                                                                                                                                                                                                                                            ... \n",
       "United States: San Francisco (+25 mi) California                                                                                                                                                                                                                                               1\n",
       "United States: Alabama; Florida; Georgia; Illinois;Louisiana; Mississippi; New York; South Carolina; Virginia                                                                                                                                                                                  1\n",
       "United States: Florida                                                                                                                                                                                                                                                                         1\n",
       "United States: Detroit (+20 km) Michigan                                                                                                                                                                                                                                                       1\n",
       "United States: Philadelphia, Pittsburgh Pennsylvania                                                                                                                                                                                                                                           1\n",
       "United States: Massachusetts                                                                                                                                                                                                                                                                   1\n",
       "United States: Illinois, Virginia; West Virginia                                                                                                                                                                                                                                               1\n",
       "United States: Washington (+50 mi) District of Columbia Connections: People who like United Muslims of America                                                                                                                                                                                 1\n",
       "Georgia, United States: Alabama; Arizona; California; Florida; Mississippi; New Mexico; New York; Oklahoma; Texas; Washington                                                                                                                                                                  1\n",
       "United StatesConnections: People who like BM                                                                                                                                                                                                                                                   1\n",
       "United States: New Orleans (+40 km) Louisiana                                                                                                                                                                                                                                                  1\n",
       "United States: New York (+50 mi) New YorkConnections: People who like BM                                                                                                                                                                                                                       1\n",
       "United StatesConnections: People who like Blacktivist                                                                                                                                                                                                                                          1\n",
       "United States Baltimore (+25 mi) Maryland                                                                                                                                                                                                                                                      1\n",
       "United States New York New York                                                                                                                                                                                                                                                                1\n",
       "United States: Baltimore (+40 km) MarylandBehaviors: Facebook access (mobile): all mobile devices or African American(US)                                                                                                                                                                      1\n",
       "United States: Washington (+40 km) District of Columbia                                                                                                                                                                                                                                        1\n",
       "United States: Charleston (+70 km) South Carolina                                                                                                                                                                                                                                              1\n",
       "United States: Buffalo (+12 mi) New York                                                                                                                                                                                                                                                       1\n",
       "United States: New York (+50 mi) New YorkConnections: People who like United Muslims of America                                                                                                                                                                                                1\n",
       "United States: Latitude 41.88 Longitude -87.71 Chicago (+16 km),Chicago Heights (+40 km), Latitude 42.01 Longitude -87.91 Des Plaines (+16km), Latitude 41.69 Longitude -88.19 Naperville (+16 km), Latitude 41.88Longitude -88.11 Wheaton (+16 km) Illinois; Ferguson (+40 km) Missouri       1\n",
       "United States: Baltimore Maryland: Ferguson, St. LouisMissouri, Cleveland Ohio                                                                                                                                                                                                                 1\n",
       "United States: Gainesville (+25 mi) Florida                                                                                                                                                                                                                                                    1\n",
       "United States: Charlotte (+25 mi) North CarolinaConnections: People who like BM                                                                                                                                                                                                                1\n",
       "United States: Atlanta (+20 km) Georgia                                                                                                                                                                                                                                                        1\n",
       "United States: Ferguson (+40 km) MissouriBehaviors: African American (US)                                                                                                                                                                                                                      1\n",
       "United States: Baltimore (+50 mi) Maryland                                                                                                                                                                                                                                                     1\n",
       "Turkmenistan                                                                                                                                                                                                                                                                                   1\n",
       "United States: Baltimore (+17 km) Maryland Behaviors: New smartphone and tablet users, Multicultural Affinity: Hispanic (US - All) or Multicultural Affinity: African American (US)                                                                                                            1\n",
       "United States: Latitude 40.73 Longitude -73.99 New York (+42 km)New York                                                                                                                                                                                                                       1\n",
       "Name: Location, Length: 169, dtype: int64"
      ]
     },
     "execution_count": 49,
     "metadata": {},
     "output_type": "execute_result"
    }
   ],
   "source": [
    "df['Location'].value_counts()"
   ]
  },
  {
   "cell_type": "code",
   "execution_count": 50,
   "metadata": {
    "collapsed": true
   },
   "outputs": [],
   "source": [
    "df.to_csv('readable_cleaned.csv')"
   ]
  },
  {
   "cell_type": "code",
   "execution_count": null,
   "metadata": {
    "collapsed": true
   },
   "outputs": [],
   "source": []
  }
 ],
 "metadata": {
  "kernelspec": {
   "display_name": "Python 3",
   "language": "python",
   "name": "python3"
  },
  "language_info": {
   "codemirror_mode": {
    "name": "ipython",
    "version": 3
   },
   "file_extension": ".py",
   "mimetype": "text/x-python",
   "name": "python",
   "nbconvert_exporter": "python",
   "pygments_lexer": "ipython3",
   "version": "3.5.1"
  }
 },
 "nbformat": 4,
 "nbformat_minor": 2
}
